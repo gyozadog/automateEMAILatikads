{
 "cells": [
  {
   "cell_type": "code",
   "execution_count": null,
   "metadata": {},
   "outputs": [],
   "source": [
    "def extract_summary(file_path=\"data_input/data.csv\", id=['936','1178']):\n",
    "  \"\"\"   \n",
    "  Extract all relevant information, containing 6 variables\n",
    "  start_date, end_date, total_spent, total_conversion, cpc_1, cpc_2\n",
    "  \"\"\"\n",
    "  fb = pd.read_csv(file_path)\n",
    "  campaigns = fb[fb['campaign_id'].isin(id)]\n",
    "  campaigns = campaigns[campaigns.spent > 0]\n",
    "\n",
    "  # Make sure to passed in appropriate preprocessing before extracting the start and end date\n",
    "  campaigns['reporting_start'] = ___\n",
    "  start_date = ___.min().strftime(format=\"%d %b %Y\")\n",
    "  end_date = ___.max().strftime(format=\"%d %b %Y\")\n",
    "\n",
    "  total_spent = int(___.sum())\n",
    "  total_conversion = int(___.sum())\n",
    "\n",
    "  # Create a cost per conversion dictionary per campaign\n",
    "  # Cost per conversion is spent divided by total conversion\n",
    "  cpc = campaigns.groupby(['campaign_id'])[[___, ___]].sum()\n",
    "  cpc['CPC'] = cpc[___]/cpc[___]\n",
    "  cpc_each = dict()\n",
    "  for each in id:\n",
    "    cpc_each[each] = round(float(cpc[cpc.index == each]['CPC']), 2)\n",
    "\n",
    "  return {\n",
    "    \"start_date\": start_date,\n",
    "    \"end_date\": end_date,\n",
    "    \"total_spent\": total_spent,\n",
    "    \"total_conversion\": total_conversion,\n",
    "    \"cpc\": cpc_each\n",
    "  }"
   ]
  },
  {
   "cell_type": "code",
   "execution_count": null,
   "metadata": {},
   "outputs": [],
   "source": [
    "import pandas as pd\n",
    "#file_path=\"data_input/data.csv\"\n",
    "#id=['936','1178']\n",
    "fb = pd.read_csv(\"data_input/data.csv\")\n",
    "campaigns = fb[fb['campaign_id'].isin(['936','1178'])]\n",
    "campaigns = campaigns[campaigns.spent > 0]\n",
    "campaigns.head()\n"
   ]
  },
  {
   "cell_type": "code",
   "execution_count": null,
   "metadata": {},
   "outputs": [],
   "source": [
    "# Make sure to passed in appropriate preprocessing before extracting the start and end date\n",
    "  campaigns['reporting_start'] = campaigns['reporting_start'].astype('datetime64')\n",
    "  start_date = campaigns['reporting_start'].min().strftime(format=\"%d %b %Y\")\n",
    "  end_date = campaigns['reporting_start'].max().strftime(format=\"%d %b %Y\")"
   ]
  },
  {
   "cell_type": "code",
   "execution_count": null,
   "metadata": {},
   "outputs": [],
   "source": [
    "  total_spent = int(___.sum())\n",
    "  total_conversion = int(___.sum())"
   ]
  }
 ],
 "metadata": {
  "language_info": {
   "codemirror_mode": {
    "name": "ipython",
    "version": 3
   },
   "file_extension": ".py",
   "mimetype": "text/x-python",
   "name": "python",
   "nbconvert_exporter": "python",
   "pygments_lexer": "ipython3",
   "version": 3
  },
  "orig_nbformat": 2
 },
 "nbformat": 4,
 "nbformat_minor": 2
}